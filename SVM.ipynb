{
 "cells": [
  {
   "cell_type": "code",
   "execution_count": 5,
   "metadata": {
    "scrolled": true
   },
   "outputs": [],
   "source": [
    "import os, pickle, re, sklearn, string\n",
    "import pandas as pd\n",
    "import numpy as np\n",
    "import matplotlib.pyplot as plt\n",
    "import nltk\n",
    "from sklearn.feature_extraction.text import CountVectorizer\n",
    "from sklearn.feature_extraction import stop_words\n",
    "from datetime import datetime\n",
    "from nltk.stem.porter import PorterStemmer"
   ]
  },
  {
   "cell_type": "code",
   "execution_count": 6,
   "metadata": {},
   "outputs": [],
   "source": [
    "def load_data(file):\n",
    "    return pd.read_csv(file)"
   ]
  },
  {
   "cell_type": "code",
   "execution_count": 7,
   "metadata": {},
   "outputs": [],
   "source": [
    "def clean_doc(doc):\n",
    "    stopwords = {}\n",
    "    stopwords = set(stop_words.ENGLISH_STOP_WORDS)\n",
    "    doc = doc.lower()\n",
    "    doc = re.sub(r\"[0-9]+\", \"\", doc)\n",
    "    tokens = doc.split()\n",
    "    tokens = [w for w in tokens if not w in stopwords]\n",
    "    tokens = [w.translate(str.maketrans('', '', string.punctuation)) for w in tokens]\n",
    "    tokens = [word for word in tokens if len(word) > 1]\n",
    "    porter = PorterStemmer()\n",
    "    tokens = [porter.stem(word) for word in tokens]    \n",
    "    return ' '.join(tokens)"
   ]
  },
  {
   "cell_type": "code",
   "execution_count": 34,
   "metadata": {},
   "outputs": [],
   "source": [
    "def create_voc(reviews):\n",
    "    vocabularyDict = {}\n",
    "    vocabularyList = []\n",
    "    for i in range(len(reviews)):\n",
    "        r = reviews[i]\n",
    "        tokens = set(r.split())\n",
    "        for token in tokens:\n",
    "            if token not in vocabularyDict.keys():\n",
    "                vocabularyDict[token] = 1\n",
    "            else:\n",
    "                vocabularyDict[token] = vocabularyDict[token] + 1    \n",
    "    for key in vocabularyDict.keys():\n",
    "        if vocabularyDict[key] >= 30:\n",
    "            vocabularyList.append(key)\n",
    "    return vocabularyList"
   ]
  },
  {
   "cell_type": "code",
   "execution_count": 9,
   "metadata": {},
   "outputs": [],
   "source": [
    "def createFeatureVectors(reviews, vocabularyList):\n",
    "    featureXVectors = []\n",
    "    for i in range(len(reviews)):\n",
    "        r = reviews[i]\n",
    "        tokens = set(r.split())\n",
    "        fVector=[]\n",
    "        for token in vocabularyList:\n",
    "            if token in tokens:\n",
    "                fVector.append(1)\n",
    "            else:\n",
    "                fVector.append(0)\n",
    "        featureXVectors.append(fVector)\n",
    "\n",
    "    featureVectors = np.asarray(featureXVectors)\n",
    "    return featureVectors;"
   ]
  },
  {
   "cell_type": "code",
   "execution_count": 10,
   "metadata": {},
   "outputs": [],
   "source": [
    "def review_cleaning(data):\n",
    "    review = []\n",
    "    for row in data:\n",
    "        review.append(clean_doc(row))\n",
    "    return review"
   ]
  },
  {
   "cell_type": "code",
   "execution_count": 11,
   "metadata": {},
   "outputs": [],
   "source": [
    "def preprocessing(data, reviews):\n",
    "    dataX = []\n",
    "    dataY = []  \n",
    "    j=-1\n",
    "    for i, row in data.iterrows():\n",
    "        j=j+1\n",
    "        dataY.append(row['label'])\n",
    "        l = np.sum(reviews[j])\n",
    "        # elem = [row['user_id'],row['prod_id'],int(row['rating']),date.day,date.month,date.year] + [l] + reviews[index].tolist()\n",
    "        elem = [row['user_id'],row['prod_id'],int(row['rating'])] + [l]\n",
    "        #elem = [row['user_id'],row['prod_id'],int(row['rating'])] + [l] + reviews[index].tolist()\n",
    "        dataX.append(elem)\n",
    "    return dataX, dataY"
   ]
  },
  {
   "cell_type": "code",
   "execution_count": 26,
   "metadata": {},
   "outputs": [],
   "source": [
    "# load data\n",
    "data = load_data('train.csv')"
   ]
  },
  {
   "cell_type": "code",
   "execution_count": 27,
   "metadata": {},
   "outputs": [
    {
     "name": "stdout",
     "output_type": "stream",
     "text": [
      "(250874, 7)\n"
     ]
    }
   ],
   "source": [
    "print(data.shape)"
   ]
  },
  {
   "cell_type": "code",
   "execution_count": 29,
   "metadata": {},
   "outputs": [
    {
     "name": "stdout",
     "output_type": "stream",
     "text": [
      "25819\n",
      "25819\n"
     ]
    },
    {
     "data": {
      "text/plain": [
       "1    25819\n",
       "0    25819\n",
       "Name: label, dtype: int64"
      ]
     },
     "execution_count": 29,
     "metadata": {},
     "output_type": "execute_result"
    }
   ],
   "source": [
    "# Separate majority and minority classes\n",
    "\n",
    "from sklearn.utils import resample\n",
    "df_majority = data[data.label==0]\n",
    "df_minority = data[data.label==1]\n",
    "print(len(df_minority))\n",
    "print(len(df_majority))\n",
    "# Downsample majority class\n",
    "df_majority_downsampled = resample(df_majority, \n",
    "                                 replace=False,    # sample without replacement\n",
    "                                 n_samples=len(df_minority),     # to match minority class\n",
    "                                 random_state=123) # reproducible results\n",
    " \n",
    "# Combine minority class with downsampled majority class\n",
    "df_downsampled = pd.concat([df_majority_downsampled, df_minority])\n",
    "\n",
    "data = df_downsampled\n",
    "# Display new class counts\n",
    "df_downsampled.label.value_counts()"
   ]
  },
  {
   "cell_type": "code",
   "execution_count": 30,
   "metadata": {},
   "outputs": [
    {
     "data": {
      "text/plain": [
       "(51638, 7)"
      ]
     },
     "execution_count": 30,
     "metadata": {},
     "output_type": "execute_result"
    }
   ],
   "source": [
    "data.shape"
   ]
  },
  {
   "cell_type": "code",
   "execution_count": 31,
   "metadata": {},
   "outputs": [
    {
     "name": "stdout",
     "output_type": "stream",
     "text": [
      "cute dessert place overhyp black sesam creme brule bf scoop jasmin ice cream green tea ice cream friend dessert scoop mix berri ice cream sort layer cracker fill berri thingymajiggi idk call look good dessert bf good wasnt wowfactor read yelp especi price paid\n"
     ]
    }
   ],
   "source": [
    "# clean review\n",
    "review = review_cleaning(data['review'])\n",
    "print(review[0])"
   ]
  },
  {
   "cell_type": "code",
   "execution_count": 32,
   "metadata": {},
   "outputs": [
    {
     "data": {
      "text/plain": [
       "51638"
      ]
     },
     "execution_count": 32,
     "metadata": {},
     "output_type": "execute_result"
    }
   ],
   "source": [
    "len(review)"
   ]
  },
  {
   "cell_type": "code",
   "execution_count": 35,
   "metadata": {},
   "outputs": [
    {
     "name": "stdout",
     "output_type": "stream",
     "text": [
      "Size of Vocabulary list =  4481\n"
     ]
    }
   ],
   "source": [
    "# create vocabulary List\n",
    "vocabularyList = create_voc(review);\n",
    "print(\"Size of Vocabulary list = \",len(vocabularyList))"
   ]
  },
  {
   "cell_type": "code",
   "execution_count": 36,
   "metadata": {},
   "outputs": [],
   "source": [
    "# create review feature\n",
    "rf = createFeatureVectors(review, vocabularyList)"
   ]
  },
  {
   "cell_type": "code",
   "execution_count": 37,
   "metadata": {},
   "outputs": [
    {
     "data": {
      "text/plain": [
       "(51638, 7)"
      ]
     },
     "execution_count": 37,
     "metadata": {},
     "output_type": "execute_result"
    }
   ],
   "source": [
    "data.shape"
   ]
  },
  {
   "cell_type": "code",
   "execution_count": 38,
   "metadata": {},
   "outputs": [],
   "source": [
    "dataX, dataY = preprocessing(data, rf)"
   ]
  },
  {
   "cell_type": "code",
   "execution_count": 39,
   "metadata": {},
   "outputs": [],
   "source": [
    "from sklearn.model_selection import train_test_split\n",
    "\n",
    "# Split dataset into training set and test set\n",
    "X_train, X_test, y_train, y_test = train_test_split(dataX,dataY,test_size=0.3,random_state=109)"
   ]
  },
  {
   "cell_type": "code",
   "execution_count": 40,
   "metadata": {},
   "outputs": [
    {
     "name": "stdout",
     "output_type": "stream",
     "text": [
      "[-0.96571528  0.13015184  0.5        -0.81318681]\n"
     ]
    }
   ],
   "source": [
    "from sklearn.preprocessing import MinMaxScaler\n",
    "scaling = MinMaxScaler(feature_range=(-1,1)).fit(X_train)\n",
    "X_train = scaling.transform(X_train)\n",
    "X_test = scaling.transform(X_test)\n",
    "print(X_train[0])"
   ]
  },
  {
   "cell_type": "code",
   "execution_count": 41,
   "metadata": {},
   "outputs": [],
   "source": [
    "from sklearn import svm\n",
    "\n",
    "#Create a svm Classifier\n",
    "clf = svm.SVC(kernel='linear') # Linear Kernel\n",
    "\n",
    "#Train the model using the training sets\n",
    "clf.fit(X_train, y_train)\n",
    "\n",
    "#Predict the response for test dataset\n",
    "y_pred = clf.predict(X_test)"
   ]
  },
  {
   "cell_type": "code",
   "execution_count": 42,
   "metadata": {},
   "outputs": [
    {
     "name": "stdout",
     "output_type": "stream",
     "text": [
      "Accuracy: 0.6720242705912729\n"
     ]
    }
   ],
   "source": [
    "from sklearn import metrics\n",
    "print(\"Accuracy:\",metrics.accuracy_score(y_test, y_pred))"
   ]
  },
  {
   "cell_type": "code",
   "execution_count": 43,
   "metadata": {},
   "outputs": [
    {
     "name": "stdout",
     "output_type": "stream",
     "text": [
      "Precision: 0.6609345351043643\n",
      "Recall: 0.7149454778704297\n"
     ]
    }
   ],
   "source": [
    "print(\"Precision:\",metrics.precision_score(y_test, y_pred))\n",
    "print(\"Recall:\",metrics.recall_score(y_test, y_pred))"
   ]
  },
  {
   "cell_type": "code",
   "execution_count": 44,
   "metadata": {},
   "outputs": [
    {
     "name": "stdout",
     "output_type": "stream",
     "text": [
      "[[4838 2859]\n",
      " [2222 5573]]\n",
      "              precision    recall  f1-score   support\n",
      "\n",
      "           0       0.69      0.63      0.66      7697\n",
      "           1       0.66      0.71      0.69      7795\n",
      "\n",
      "    accuracy                           0.67     15492\n",
      "   macro avg       0.67      0.67      0.67     15492\n",
      "weighted avg       0.67      0.67      0.67     15492\n",
      "\n"
     ]
    }
   ],
   "source": [
    "from sklearn.metrics import classification_report, confusion_matrix\n",
    "print(confusion_matrix(y_test,y_pred))\n",
    "print(classification_report(y_test,y_pred))"
   ]
  },
  {
   "cell_type": "code",
   "execution_count": 45,
   "metadata": {},
   "outputs": [
    {
     "data": {
      "image/png": "[encoded data removed]",
      "text/plain": [
       "<Figure size 432x288 with 1 Axes>"
      ]
     },
     "metadata": {
      "needs_background": "light"
     },
     "output_type": "display_data"
    }
   ],
   "source": [
    "import matplotlib.pyplot as plt\n",
    "conf = sklearn.metrics.confusion_matrix(y_test, y_pred)\n",
    "plt.imshow(conf, cmap='binary', interpolation='None')\n",
    "plt.show()"
   ]
  },
  {
   "cell_type": "code",
   "execution_count": null,
   "metadata": {},
   "outputs": [],
   "source": [
    "## testing on dev file\n"
   ]
  }
 ],
 "metadata": {
  "kernelspec": {
   "display_name": "Python 3",
   "language": "python",
   "name": "python3"
  },
  "language_info": {
   "codemirror_mode": {
    "name": "ipython",
    "version": 3
   },
   "file_extension": ".py",
   "mimetype": "text/x-python",
   "name": "python",
   "nbconvert_exporter": "python",
   "pygments_lexer": "ipython3",
   "version": "3.7.4"
  }
 },
 "nbformat": 4,
 "nbformat_minor": 4
}

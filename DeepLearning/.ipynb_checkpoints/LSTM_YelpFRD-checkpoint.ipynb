{
 "cells": [
  {
   "cell_type": "markdown",
   "metadata": {},
   "source": [
    "## Review Classification using LSTM\n",
    "\n",
    "- Baseline model inspired from [this github](https://github.com/nsinha280/lstm-on-Yelp-review-data/blob/master/lstm-final.ipynb)"
   ]
  },
  {
   "cell_type": "code",
   "execution_count": null,
   "metadata": {},
   "outputs": [],
   "source": [
    "import keras, os, pickle, re, sklearn, string, tensorflow\n",
    "import numpy as np\n",
    "import matplotlib.pyplot as plt\n",
    "import pandas as pd\n",
    "\n",
    "from keras.utils import to_categorical\n",
    "from keras.callbacks import ModelCheckpoint, ReduceLROnPlateau\n",
    "from keras.preprocessing import text, sequence\n",
    "from keras.models import load_model\n",
    "from keras.layers import Embedding, Dense, LSTM\n",
    "from keras.metrics import Recall, AUC, FalseNegatives\n",
    "from keras.optimizers import Adadelta\n",
    "\n",
    "from sklearn.model_selection import train_test_split\n",
    "from gensim import models\n",
    "from nltk.corpus import stopwords\n",
    "\n",
    "import funcs\n",
    "\n",
    "print('Keras version: \\t\\t%s' % keras.__version__)\n",
    "print('Scikit version: \\t%s' % sklearn.__version__)\n",
    "print('TensorFlow version: \\t%s' % tensorflow.__version__)\n",
    "\n",
    "#Parameters to set acoss data management\n",
    "MAX_NUM_WORDS  = 5000\n",
    "MAX_SEQ_LENGTH = 200"
   ]
  },
  {
   "cell_type": "code",
   "execution_count": null,
   "metadata": {},
   "outputs": [],
   "source": [
    "# EMBEDDING\n",
    "# GoogleNews only comes in 300-dimension form\n",
    "EMBEDDING_DIM  = 300\n",
    "\n",
    "def create_pretrained_embeddings(preset='None'):\n",
    "\n",
    "    embeddings_index = {}\n",
    "    \n",
    "    if preset == 'glove':\n",
    "        print('Pretrained embeddings GloVe is loading...')\n",
    "        f = open('../dat/w2v/glove.6B.%id.txt' % EMBEDDING_DIM, encoding='utf8')\n",
    "    elif preset == 'google':\n",
    "        print('Pretrained embeddings GoogleNews is loading...')\n",
    "        f = open('../dat/w2v/GoogleNews-vectors-negative%i.txt' % EMBEDDING_DIM, encoding='utf8')\n",
    "    elif preset == 'custom':\n",
    "        print('Custom Word2Vec Embedding (based on training data) is loading...')\n",
    "        f = open('../dat/w2v/CustomW2V_%i.txt' % EMBEDDING_DIM, encoding='utf8')    \n",
    "    else:\n",
    "        if preset != 'None':\n",
    "            print('invalid pretrained preset')\n",
    "        return None\n",
    "    \n",
    "    for line in f:\n",
    "        values = line.split()\n",
    "        word = values[0]\n",
    "        coefs = np.asarray(values[1:], dtype='float32')\n",
    "        embeddings_index[word] = coefs\n",
    "    f.close()\n",
    "    \n",
    "    print('Found %s word vectors in'% len(embeddings_index), preset, 'embedding' )\n",
    "\n",
    "    embedding_matrix = np.zeros((MAX_NUM_WORDS, EMBEDDING_DIM))\n",
    "\n",
    "    for word, i in tokenizer.word_index.items():\n",
    "        if i >= MAX_NUM_WORDS:\n",
    "            continue\n",
    "        embedding_vector = embeddings_index.get(word)\n",
    "        if embedding_vector is not None:\n",
    "            embedding_matrix[i] = embedding_vector\n",
    "\n",
    "    return Embedding(input_dim=MAX_NUM_WORDS, output_dim=EMBEDDING_DIM,\n",
    "                     input_length=MAX_SEQ_LENGTH,\n",
    "                     weights=[embedding_matrix],\n",
    "                     trainable=True\n",
    "                    )"
   ]
  },
  {
   "cell_type": "code",
   "execution_count": null,
   "metadata": {},
   "outputs": [],
   "source": [
    "\n",
    "df_train = pd.read_csv('../dat/train.csv')\n",
    "df_dev = pd.read_csv('../dat/dev.csv')\n",
    "#df_test = pd.read.csv('../dat/test.csv')\n",
    "\n",
    "trn_r = []\n",
    "trn_f = []\n",
    "dev_r = []\n",
    "dev_f = []\n",
    "\n",
    "for r in df_train[df_train['label']==0]['review']:\n",
    "    trn_r.append(r)\n",
    "for r in df_train[df_train['label']==1]['review']:\n",
    "    trn_f.append(r)   \n",
    "    \n",
    "for r in df_dev[df_dev['label']==0]['review']:\n",
    "    dev_r.append(r)\n",
    "for r in df_dev[df_dev['label']==1]['review']:\n",
    "    dev_f.append(r)\n",
    "    \n",
    "negative_docs = trn_r[:round(len(trn_r)/4)]\n",
    "positive_docs = trn_f + trn_f\n",
    "negative_docs_test = dev_r[:round(len(dev_r)/4)]\n",
    "positive_docs_test = dev_f + dev_f\n",
    "\n",
    "docs   = negative_docs + positive_docs\n",
    "docs_t = negative_docs_test + positive_docs_test\n",
    "labels_train = [0 for _ in range(len(negative_docs))] + [1 for _ in range(len(positive_docs))]\n",
    "labels_test = [0 for _ in range(len(negative_docs_test))] + [1 for _ in range(len(positive_docs_test))]\n",
    "\n",
    "print('Training samples: %i' % len(docs))\n",
    "print('Testing samples: %i' % len(docs_t))\n"
   ]
  },
  {
   "cell_type": "code",
   "execution_count": null,
   "metadata": {},
   "outputs": [],
   "source": [
    "tokenizer = text.Tokenizer(num_words=MAX_NUM_WORDS)\n",
    "tokenizer.fit_on_texts(docs)\n",
    "sequences = tokenizer.texts_to_sequences(docs)\n",
    "word_index = tokenizer.word_index\n",
    "result = [len(x.split()) for x in docs]\n",
    "train   = sequence.pad_sequences(sequences, maxlen=MAX_SEQ_LENGTH, padding='post')\n",
    "print('Text informations Training:')\n",
    "print('max length: %i / min length: %i / mean length: %i / limit length: %i' % (np.max(result),\n",
    "                                                                                np.min(result),\n",
    "                                                                                np.mean(result),\n",
    "                                                                                MAX_SEQ_LENGTH))\n",
    "print('vocabulary size: %i / limit: %i' % (len(word_index), MAX_NUM_WORDS))\n",
    "\n",
    "\n",
    "tokenizer_test = text.Tokenizer(num_words=MAX_NUM_WORDS)\n",
    "tokenizer_test.fit_on_texts(docs_t)\n",
    "sequences_test = tokenizer_test.texts_to_sequences(docs_t)\n",
    "word_index_test = tokenizer_test.word_index\n",
    "result_test = [len(x.split()) for x in docs_t]\n",
    "test   = sequence.pad_sequences(sequences_test, maxlen=MAX_SEQ_LENGTH, padding='post')\n",
    "print('Text informations Test:')\n",
    "print('max length: %i / min length: %i / mean length: %i / limit length: %i' % (np.max(result_test),\n",
    "                                                                                np.min(result_test),\n",
    "                                                                                np.mean(result_test),\n",
    "                                                                                MAX_SEQ_LENGTH))\n",
    "print('vocabulary size: %i / limit: %i' % (len(word_index_test), MAX_NUM_WORDS))"
   ]
  },
  {
   "cell_type": "code",
   "execution_count": null,
   "metadata": {},
   "outputs": [],
   "source": [
    "EL = create_pretrained_embeddings(preset='custom')"
   ]
  },
  {
   "cell_type": "code",
   "execution_count": null,
   "metadata": {},
   "outputs": [],
   "source": [
    "#LSTM w/ custom Embedding\n",
    "model = keras.Sequential()\n",
    "model.add(EL)\n",
    "model.add(LSTM(50, dropout=0.2, recurrent_dropout=0.2))\n",
    "model.add(Dense(1,activation='softmax'))\n",
    "model.compile(loss='binary_crossentropy', optimizer='adam', metrics=['accuracy', Recall(), AUC(), FalseNegatives()])\n",
    "print(model.summary())"
   ]
  },
  {
   "cell_type": "code",
   "execution_count": null,
   "metadata": {},
   "outputs": [],
   "source": [
    "X_train, X_val, y_train, y_val = train_test_split(train, labels_train, test_size=.25, random_state=42)\n",
    "model.fit(X_train, y_train, validation_data=(X_val, y_val), epochs=1, batch_size=100)"
   ]
  },
  {
   "cell_type": "code",
   "execution_count": null,
   "metadata": {},
   "outputs": [],
   "source": [
    "# Final evaluation of the model\n",
    "scores = model.evaluate(data_test, labels_test, verbose=0)\n",
    "print(\"Recall: %.2f%%\" % (scores[1]*100))"
   ]
  }
 ],
 "metadata": {
  "kernelspec": {
   "display_name": "Python 3",
   "language": "python",
   "name": "python3"
  },
  "language_info": {
   "codemirror_mode": {
    "name": "ipython",
    "version": 3
   },
   "file_extension": ".py",
   "mimetype": "text/x-python",
   "name": "python",
   "nbconvert_exporter": "python",
   "pygments_lexer": "ipython3",
   "version": "3.7.7"
  }
 },
 "nbformat": 4,
 "nbformat_minor": 4
}

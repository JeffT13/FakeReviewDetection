{
 "cells": [
  {
   "cell_type": "markdown",
   "metadata": {},
   "source": [
    "## Review Classification using Convolutional Neural Network\n",
    "\n",
    "- Original code from [Christopher Masch github](https://github.com/cmasch/cnn-text-classification) which was inspired by [Britz Blog & Github](http://www.wildml.com/2015/12/implementing-a-cnn-for-text-classification-in-tensorflow/) "
   ]
  },
  {
   "cell_type": "markdown",
   "metadata": {},
   "source": [
    "---"
   ]
  },
  {
   "cell_type": "code",
   "execution_count": null,
   "metadata": {},
   "outputs": [],
   "source": [
    "import keras, os, pickle, re, sklearn, string, tensorflow\n",
    "import numpy as np\n",
    "import matplotlib.pyplot as plt\n",
    "import pandas as pd\n",
    "import funcs\n",
    "\n",
    "from keras.utils import to_categorical\n",
    "from keras.callbacks import ModelCheckpoint, ReduceLROnPlateau\n",
    "from keras.preprocessing import text, sequence\n",
    "from keras.models import load_model\n",
    "from keras.layers import Embedding, Dense, LSTM\n",
    "from keras.metrics import Recall, AUC, FalseNegatives\n",
    "from keras.optimizers import Adadelta\n",
    "\n",
    "from sklearn.model_selection import train_test_split\n",
    "from gensim import models\n",
    "from nltk.corpus import stopwords\n",
    "\n",
    "print('Keras version: \\t\\t%s' % keras.__version__)\n",
    "print('Scikit version: \\t%s' % sklearn.__version__)\n",
    "print('TensorFlow version: \\t%s' % tensorflow.__version__)\n",
    "\n",
    "#Parameters to set acoss data management\n",
    "MAX_NUM_WORDS  = 5000\n",
    "MAX_SEQ_LENGTH = 200"
   ]
  },
  {
   "cell_type": "markdown",
   "metadata": {},
   "source": [
    "## Word Embedding\n",
    "\n",
    "### added GoogleNews and Custom W2V embedding for model\n",
    "\n",
    "- built the w2v embeddings externally, exported as txt, added loading mechanism"
   ]
  },
  {
   "cell_type": "code",
   "execution_count": null,
   "metadata": {},
   "outputs": [],
   "source": [
    "# EMBEDDING\n",
    "# GoogleNews only comes in 300-dimension form\n",
    "EMBEDDING_DIM  = 300\n",
    "\n",
    "def create_pretrained_embeddings(preset='None'):\n",
    "\n",
    "    embeddings_index = {}\n",
    "    \n",
    "    if preset == 'glove':\n",
    "        print('Pretrained embeddings GloVe is loading...')\n",
    "        f = open('../dat/w2v/glove.6B.%id.txt' % EMBEDDING_DIM, encoding='utf8')\n",
    "    elif preset == 'google':\n",
    "        print('Pretrained embeddings GoogleNews is loading...')\n",
    "        f = open('../dat/w2v/GoogleNews-vectors-negative%i.txt' % EMBEDDING_DIM, encoding='utf8')\n",
    "    elif preset == 'custom':\n",
    "        print('Custom Word2Vec Embedding (based on training data) is loading...')\n",
    "        f = open('../dat/w2v/CustomW2V_%i.txt' % EMBEDDING_DIM, encoding='utf8')    \n",
    "    else:\n",
    "        if preset != 'None':\n",
    "            print('invalid pretrained preset')\n",
    "        return None\n",
    "    \n",
    "    for line in f:\n",
    "        values = line.split()\n",
    "        word = values[0]\n",
    "        coefs = np.asarray(values[1:], dtype='float32')\n",
    "        embeddings_index[word] = coefs\n",
    "    f.close()\n",
    "    \n",
    "    print('Found %s word vectors in'% len(embeddings_index), preset, 'embedding' )\n",
    "\n",
    "    embedding_matrix = np.zeros((MAX_NUM_WORDS, EMBEDDING_DIM))\n",
    "\n",
    "    for word, i in tokenizer.word_index.items():\n",
    "        if i >= MAX_NUM_WORDS:\n",
    "            continue\n",
    "        embedding_vector = embeddings_index.get(word)\n",
    "        if embedding_vector is not None:\n",
    "            embedding_matrix[i] = embedding_vector\n",
    "\n",
    "    return Embedding(input_dim=MAX_NUM_WORDS, output_dim=EMBEDDING_DIM,\n",
    "                     input_length=MAX_SEQ_LENGTH,\n",
    "                     weights=[embedding_matrix],\n",
    "                     trainable=True\n",
    "                    )"
   ]
  },
  {
   "cell_type": "markdown",
   "metadata": {},
   "source": [
    "## Yelp data management"
   ]
  },
  {
   "cell_type": "code",
   "execution_count": null,
   "metadata": {},
   "outputs": [],
   "source": [
    "\n",
    "df_train = pd.read_csv('../dat/train.csv')\n",
    "df_dev = pd.read_csv('../dat/dev.csv')\n",
    "#df_test = pd.read.csv('../dat/test.csv')\n",
    "\n",
    "trn_r = []\n",
    "trn_f = []\n",
    "dev_r = []\n",
    "dev_f = []\n",
    "\n",
    "for r in df_train[df_train['label']==0]['review']:\n",
    "    trn_r.append(r)\n",
    "for r in df_train[df_train['label']==1]['review']:\n",
    "    trn_f.append(r)   \n",
    "    \n",
    "for r in df_dev[df_dev['label']==0]['review']:\n",
    "    dev_r.append(r)\n",
    "for r in df_dev[df_dev['label']==1]['review']:\n",
    "    dev_f.append(r)\n",
    "    \n",
    "negative_docs = trn_r[:round(len(trn_r)/4)]\n",
    "positive_docs = trn_f + trn_f\n",
    "negative_docs_test = dev_r[:round(len(dev_r)/4)]\n",
    "positive_docs_test = dev_f + dev_f\n",
    "\n",
    "docs   = negative_docs + positive_docs\n",
    "docs_t = negative_docs_test + positive_docs_test\n",
    "labels_train = [0 for _ in range(len(negative_docs))] + [1 for _ in range(len(positive_docs))]\n",
    "labels_test = [0 for _ in range(len(negative_docs_test))] + [1 for _ in range(len(positive_docs_test))]\n",
    "\n",
    "print('Training samples: %i' % len(docs))\n",
    "print('Testing samples: %i' % len(docs_t))\n"
   ]
  },
  {
   "cell_type": "markdown",
   "metadata": {},
   "source": [
    "## Tokenizer"
   ]
  },
  {
   "cell_type": "code",
   "execution_count": null,
   "metadata": {},
   "outputs": [],
   "source": [
    "tokenizer = text.Tokenizer(num_words=MAX_NUM_WORDS)\n",
    "tokenizer.fit_on_texts(docs)\n",
    "sequences = tokenizer.texts_to_sequences(docs)\n",
    "word_index = tokenizer.word_index\n",
    "result = [len(x.split()) for x in docs]\n",
    "train   = sequence.pad_sequences(sequences, maxlen=MAX_SEQ_LENGTH, padding='post')\n",
    "print('Text informations Training:')\n",
    "print('max length: %i / min length: %i / mean length: %i / limit length: %i' % (np.max(result),\n",
    "                                                                                np.min(result),\n",
    "                                                                                np.mean(result),\n",
    "                                                                                MAX_SEQ_LENGTH))\n",
    "print('vocabulary size: %i / limit: %i' % (len(word_index), MAX_NUM_WORDS))\n",
    "\n",
    "\n",
    "tokenizer_test = text.Tokenizer(num_words=MAX_NUM_WORDS)\n",
    "tokenizer_test.fit_on_texts(docs_t)\n",
    "sequences_test = tokenizer_test.texts_to_sequences(docs_t)\n",
    "word_index_test = tokenizer_test.word_index\n",
    "result_test = [len(x.split()) for x in docs_t]\n",
    "test   = sequence.pad_sequences(sequences_test, maxlen=MAX_SEQ_LENGTH, padding='post')\n",
    "print('Text informations Test:')\n",
    "print('max length: %i / min length: %i / mean length: %i / limit length: %i' % (np.max(result_test),\n",
    "                                                                                np.min(result_test),\n",
    "                                                                                np.mean(result_test),\n",
    "                                                                                MAX_SEQ_LENGTH))\n",
    "print('vocabulary size: %i / limit: %i' % (len(word_index_test), MAX_NUM_WORDS))"
   ]
  },
  {
   "cell_type": "markdown",
   "metadata": {},
   "source": [
    "# CNN\n",
    "\n",
    "### Parameters"
   ]
  },
  {
   "cell_type": "code",
   "execution_count": null,
   "metadata": {},
   "outputs": [],
   "source": [
    "# Use pretrained Embedding (default to custom)\n",
    "USE_GLOVE      = False\n",
    "USE_GOOGLE     = False\n",
    "\n",
    "# MODEL\n",
    "FILTER_SIZES   = [3,4,5]\n",
    "FEATURE_MAPS   = [10,10,10]\n",
    "DROPOUT_RATE   = 0.4\n",
    "\n",
    "# LEARNING\n",
    "BATCH_SIZE     = 100\n",
    "NB_EPOCHS      = 10 \n",
    "RUNS           = 1\n",
    "VAL_SIZE       = .25"
   ]
  },
  {
   "cell_type": "markdown",
   "metadata": {},
   "source": [
    "### Training"
   ]
  },
  {
   "cell_type": "code",
   "execution_count": null,
   "metadata": {
    "scrolled": false
   },
   "outputs": [],
   "source": [
    "import cnn_model\n",
    "\n",
    "histories = []\n",
    "\n",
    "for i in range(RUNS):\n",
    "    print('Running iteration %i/%i' % (i+1, RUNS))\n",
    "    \n",
    "    X_train, X_val, y_train, y_val = train_test_split(data, labels, test_size=VAL_SIZE, random_state=42)\n",
    "    \n",
    "    emb_layer = None\n",
    "    if USE_GLOVE:\n",
    "        emb_layer = create_pretrained_embeddings(preset='glove')\n",
    "    elif USE_GOOGLE:\n",
    "        emb_layer = create_pretrained_embeddings(preset='google')\n",
    "    elif not(USE_GOOGLE or USE_GLOVE):\n",
    "        emb_layer = create_pretrained_embeddings(preset='custom')\n",
    "    else:\n",
    "        emb_layer = None\n",
    "        \n",
    "    \n",
    "    model = cnn_model.build_cnn(\n",
    "        embedding_layer=emb_layer,\n",
    "        num_words=MAX_NUM_WORDS,\n",
    "        embedding_dim=EMBEDDING_DIM,\n",
    "        filter_sizes=FILTER_SIZES,\n",
    "        feature_maps=FEATURE_MAPS,\n",
    "        max_seq_length=MAX_SEQ_LENGTH,\n",
    "        dropout_rate=DROPOUT_RATE\n",
    "    )\n",
    "    \n",
    "    model.compile(\n",
    "        loss='binary_crossentropy',\n",
    "        optimizer=Adadelta(clipvalue=3),\n",
    "        metrics=['accuracy', Recall()]\n",
    "    )\n",
    "    \n",
    "    history = model.fit(\n",
    "        X_train, y_train,\n",
    "        epochs=NB_EPOCHS,\n",
    "        batch_size=BATCH_SIZE,\n",
    "        verbose=1,\n",
    "        validation_data=(X_val, y_val),\n",
    "        callbacks=[ModelCheckpoint('model-%i.h5'%(i+1), monitor='val_loss',\n",
    "                                   verbose=1, save_best_only=True, mode='min'),\n",
    "                   ReduceLROnPlateau(monitor='val_loss', factor=0.1, patience=4, min_lr=0.01)\n",
    "                  ]\n",
    "    )\n",
    "    print()\n",
    "    histories.append(history.history)"
   ]
  },
  {
   "cell_type": "code",
   "execution_count": null,
   "metadata": {},
   "outputs": [],
   "source": [
    "with open('history.pkl', 'wb') as f:\n",
    "    pickle.dump(histories, f)"
   ]
  },
  {
   "cell_type": "markdown",
   "metadata": {},
   "source": [
    "### CNN Evaluation"
   ]
  },
  {
   "cell_type": "code",
   "execution_count": null,
   "metadata": {},
   "outputs": [],
   "source": [
    "histories = pickle.load(open('history.pkl', 'rb'))"
   ]
  },
  {
   "cell_type": "code",
   "execution_count": null,
   "metadata": {},
   "outputs": [],
   "source": [
    "# corrected `acc` to `accuracy` & `val_acc` to `val_accuracy` in testing\n",
    "\n",
    "def get_avg(histories, his_key):\n",
    "    tmp = []\n",
    "    for history in histories:\n",
    "        tmp.append(history[his_key][np.argmin(history['val_loss'])])\n",
    "    return np.mean(tmp)\n",
    "    \n",
    "print('Training: \\t%0.4f loss / %0.4f acc' % (get_avg(histories, 'loss'),\n",
    "                                              get_avg(histories, 'accuracy')))\n",
    "print('Validation: \\t%0.4f loss / %0.4f acc' % (get_avg(histories, 'val_loss'),\n",
    "                                                get_avg(histories, 'val_accuracy')))"
   ]
  },
  {
   "cell_type": "code",
   "execution_count": null,
   "metadata": {},
   "outputs": [],
   "source": [
    "plot_acc_loss('training', histories, 'accuracy', 'loss')\n",
    "plot_acc_loss('validation', histories, 'val_accuracy', 'val_loss')"
   ]
  },
  {
   "cell_type": "markdown",
   "metadata": {},
   "source": [
    "##### Final test (IMDB / Yelp)"
   ]
  },
  {
   "cell_type": "code",
   "execution_count": null,
   "metadata": {},
   "outputs": [],
   "source": [
    "test_loss = []\n",
    "test_accs = []\n",
    "\n",
    "for i in range(0,RUNS):\n",
    "    cnn_ = load_model(\"model-%i.h5\" % (i+1))\n",
    "    \n",
    "    score = cnn_.evaluate(X_test, y_test, verbose=1)\n",
    "    test_loss.append(score[0])\n",
    "    test_accs.append(score[1])\n",
    "    \n",
    "    print('Running test with model %i: %0.4f loss / %0.4f acc' % (i+1, score[0], score[1]))\n",
    "    \n",
    "print('\\nAverage loss / accuracy on testset: %0.4f loss / %0.4f acc' % (np.mean(test_loss),\n",
    "                                                                        np.mean(test_accs)))\n",
    "print('Standard deviation: (+-%0.4f) loss / (+-%0.4f) acc' % (np.std(test_loss), np.std(test_accs)))"
   ]
  },
  {
   "cell_type": "code",
   "execution_count": null,
   "metadata": {},
   "outputs": [],
   "source": []
  },
  {
   "cell_type": "code",
   "execution_count": null,
   "metadata": {},
   "outputs": [],
   "source": []
  }
 ],
 "metadata": {
  "kernelspec": {
   "display_name": "Python 3",
   "language": "python",
   "name": "python3"
  },
  "language_info": {
   "codemirror_mode": {
    "name": "ipython",
    "version": 3
   },
   "file_extension": ".py",
   "mimetype": "text/x-python",
   "name": "python",
   "nbconvert_exporter": "python",
   "pygments_lexer": "ipython3",
   "version": "3.7.7"
  }
 },
 "nbformat": 4,
 "nbformat_minor": 2
}

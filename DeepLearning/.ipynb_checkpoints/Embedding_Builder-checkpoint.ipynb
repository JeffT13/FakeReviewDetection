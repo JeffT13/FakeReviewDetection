{
 "cells": [
  {
   "cell_type": "code",
   "execution_count": null,
   "metadata": {},
   "outputs": [],
   "source": [
    "import pandas as pd\n",
    "import numpy as np\n",
    "import re\n",
    "import string\n",
    "from collections import Counter\n",
    "\n",
    "from nltk.tokenize import word_tokenize\n",
    "from nltk.corpus import stopwords\n",
    "from nltk import download\n",
    "from gensim import models\n",
    "\n",
    "EMBEDDING_DIM = 300\n",
    "download('stopwords')\n",
    "stop_words = set(stopwords.words('english'))"
   ]
  },
  {
   "cell_type": "code",
   "execution_count": null,
   "metadata": {},
   "outputs": [],
   "source": [
    "df = pd.read_csv('../dat/train.csv')\n",
    "df['review_length'] = df['review'].apply(lambda x: len(x.split()))\n",
    "df['review_length_nonstopwords'] = df['review'].apply(lambda x: len([word for word in (re.sub(r'[^\\w]', ' ', x)).lower().split() if word not in stop_words]))\n",
    "df.head()"
   ]
  },
  {
   "cell_type": "code",
   "execution_count": null,
   "metadata": {},
   "outputs": [],
   "source": [
    "# Word2Vec explicit with gensim\n",
    "\n",
    "review_lines = list()\n",
    "lines = df['review'].values.tolist()\n",
    "stop_words = set(stopwords.words('english'))"
   ]
  },
  {
   "cell_type": "markdown",
   "metadata": {},
   "source": [
    "### Build list of cleaned sentences"
   ]
  },
  {
   "cell_type": "code",
   "execution_count": null,
   "metadata": {},
   "outputs": [],
   "source": [
    "print(len(lines))\n",
    "itr = 0\n",
    "for line in lines:\n",
    "    if itr%10000==0:\n",
    "        print(itr)\n",
    "    tokens = word_tokenize(line)\n",
    "    tokens = [w.lower() for w in tokens]\n",
    "    table = str.maketrans('', '', string.punctuation)\n",
    "    stripped = [w.translate(table) for w in tokens]\n",
    "    words = [word for word in stripped if word.isalpha()]\n",
    "    words = [w for w in words if not w in stop_words]\n",
    "    review_lines.append(words)\n",
    "    itr+=1"
   ]
  },
  {
   "cell_type": "markdown",
   "metadata": {},
   "source": [
    "### Generate and Save w2v with Gensim"
   ]
  },
  {
   "cell_type": "code",
   "execution_count": null,
   "metadata": {},
   "outputs": [],
   "source": [
    "trainwv = models.Word2Vec(sentences=review_lines, size=EMBEDDING_DIM, window=4, workers=4, min_count=1)"
   ]
  },
  {
   "cell_type": "code",
   "execution_count": null,
   "metadata": {},
   "outputs": [],
   "source": [
    "trainwv.wv.save_word2vec_format('../dat/w2v/CustomW2V_300.txt', binary=False)"
   ]
  },
  {
   "cell_type": "code",
   "execution_count": null,
   "metadata": {},
   "outputs": [],
   "source": [
    "googlewv = models.KeyedVectors.load_word2vec_format('../dat/w2v/GoogleNews-vectors-negative300.bin', binary=True)\n",
    "googlewv.wv.save_word2vec_format('../dat/w2v/GoogleNews-vectors-negative300.txt', binary=False)"
   ]
  },
  {
   "cell_type": "code",
   "execution_count": null,
   "metadata": {},
   "outputs": [],
   "source": [
    "run = False\n",
    "\n",
    "if run:\n",
    "    googlewv = models.KeyedVectors.load_word2vec_format('../dat/w2v/GoogleNews-vectors-negative300.bin', binary=True)\n",
    "    googlewv.save_word2vec_format('../dat/w2v/GoogleNews-vectors-negative300.txt', binary=False)\n",
    "    glovewv = models.KeyedVectors.load_word2vec_format('../dat/w2v/glove.6B.300d.txt', binary=False)"
   ]
  }
 ],
 "metadata": {
  "kernelspec": {
   "display_name": "Python 3",
   "language": "python",
   "name": "python3"
  },
  "language_info": {
   "codemirror_mode": {
    "name": "ipython",
    "version": 3
   },
   "file_extension": ".py",
   "mimetype": "text/x-python",
   "name": "python",
   "nbconvert_exporter": "python",
   "pygments_lexer": "ipython3",
   "version": "3.7.7"
  }
 },
 "nbformat": 4,
 "nbformat_minor": 4
}

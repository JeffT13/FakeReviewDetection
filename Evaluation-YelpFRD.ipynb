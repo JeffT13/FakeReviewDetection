{
 "cells": [
  {
   "cell_type": "markdown",
   "metadata": {},
   "source": [
    "# Text classification with Convolution Neural Networks (CNN)\n",
    "This is a project to classify text documents / sentences with CNNs. You can find a great introduction in a similar approach on a blog entry of [Denny Britz](http://www.wildml.com/2015/12/implementing-a-cnn-for-text-classification-in-tensorflow/) and [Keras](https://blog.keras.io/using-pre-trained-word-embeddings-in-a-keras-model.html). My approach is quit similar to the one of Denny and the original paper of Yoon Kim [1]. You can find the implementation of Yoon Kim on [GitHub](https://github.com/yoonkim/CNN_sentence) as well.\n",
    "\n",
    "## Evaluation\n",
    "For evaluation I used different datasets that are freely available. They differ in their size of amount and the content length. What all have in common is that they have two classes to predict (positive / negative). I would like to show how CNN performs on ~10000 up to ~200000 documents with modify only a few paramters.\n",
    "\n",
    "I used the following sets for evaluation:\n",
    "- [sentence polarity dataset v1.0](http://www.cs.cornell.edu/people/pabo/movie-review-data/)<br>\n",
    "The polarity dataset v1.0 has 10662 sentences. It's quit similiar to traditional sentiment analysis of tweets because of the content length. I just splitted the data in train / validation (90% / 10%).\n",
    "- [IMDB moview review](http://ai.stanford.edu/~amaas/data/sentiment/)<br>\n",
    "IMDB moview review has 25000 train and 25000 test documents. I splitted the trainset into train / validation (80% / 20%) and used the testset for a final test.\n",
    "- [Yelp dataset 2017](https://www.yelp.com/dataset)<br>\n",
    "This dataset contains a JSON of nearly 5 million entries. I splitted this JSON for performance reason to randomly 200000 train and 50000 test documents. I selected ratings with 1-2 stars as negative and 4-5 as positive. Ratings with 3 stars are not considered because of their neutrality. In addition comes that this selected subset contains only texts with more than 5 words. The language of the texts include english, german, spanish and a lot more. During the training I used 80% / 20% (train / validation). If you are interested you can also check a small demo of the [embeddings](https://github.com/cmasch/word-embeddings-from-scratch) created from the training data.\n",
    "\n",
    "## Model\n",
    "The implemented [model](https://github.com/cmasch/cnn-text-classification/blob/master/cnn_model.py) has multiple convolutional layers in parallel to obtain several features of one text. Through different kernel sizes of each convolution layer the window size varies and the text will be read with a n-gram approach. The default values are 3 convolution layers with kernel size of 3, 4 and 5.<br>\n",
    "\n",
    "I also used pre-trained embedding [GloVe](https://nlp.stanford.edu/projects/glove/) with 300 dimensional vectors and 6B tokens to show that unsupervised learning of words can have a positive effect on neural nets.\n",
    "\n",
    "## Results\n",
    "For all runs I used a learning rate reduction if their's no improvement on validation loss by factor 0.1 after 4 epochs. The optimizer for all runs was Adadelta.<br>As already described I used 5 runs to get a final mean of loss / accuracy.\n",
    "\n",
    "### Sentence polarity dataset v1.0\n",
    "| Filter Sizes | Feature Maps | Embedding | Max Words / Sequence | Batch Size / Epochs | Training<br>(loss / acc) | Validation<br>(loss / acc) |\n",
    "| :---: | :---: | :---: | :---: | :---: | :---: | :---: |\n",
    "| [3,4,5] | [10,10,10] | GloVe 300 | 15000 / 20 | 100 / 80 | 0.3505 / 0.8720 | 0.4688 / 0.7974 |\n",
    "| [3,4,5] | [10,10,10] | 300 | 15000 / 20 | 100 / 80 | 0.3560 / 0.8763 | 0.5243 / 0.7786 |\n",
    "\n",
    "### IMDB\n",
    "| Filter Sizes | Feature Maps | Embedding | Max Words / Sequence | Batch Size /<br>Epochs | Training<br>(loss / acc) | Validation<br>(loss / acc) | Test<br>(loss / acc) |\n",
    "| :---: | :---: | :---: | :---: | :---: | :---: | :---: | :---: |\n",
    "| [3,4,5] | [10,10,10] | GloVe 300 | 15000 / 200 | 100 / 80 | 0.2289 / 0.9213 | 0.2963 / 0.8888 | 0.2994 / 0.8896 |\n",
    "| [3,4,5] | [10,10,10] | 300 | 15000 / 200 | 100 / 80 | 0.2166 / 0.9305 | 0.3043 / 0.8883 | 0.3322 / 0.8751 |\n",
    "\n",
    "### Yelp 2017\n",
    "| Filter Sizes | Feature Maps | Embedding | Max Words / Sequence | Batch Size /<br>Epochs | Training<br>(loss / acc) | Validation<br>(loss / acc) | Test<br>(loss / acc) |\n",
    "| :---: | :---: | :---: | :---: | :---: | :---: | :---: | :--: |\n",
    "| [3,4,5] | [10,10,10] | GloVe 300 | 15000 / 200 | 200 / 40 | 0.1733 / 0.9407 | 0.1724 / 0.9418 | 0.1793 / 0.9393 |\n",
    "| [3,4,5] | [10,10,10] | 300 | 15000 / 200 | 200 / 40 | 0.1251 / 0.9583 | 0.1647 / 0.9424 | 0.1753 / 0.9384 |\n",
    "\n",
    "### Yelp 2017 - Multiclass classification\n",
    "All previous evaluations are typical binary classification tasks. The Yelp dataset comes with reviews which can be classified into five classes (one to five stars). For the evaluations above I merged one and two star reviews together to the negative class. Reviews with four and five stars are labeled as positive reviews. Neutral reviews with three stars are not considered. In this evaluation I trained the model on all five classes.\n",
    "The baseline we have to reach is 20% accuracy because all classes are balanced to the same amount of samples. In a first evaluation I reached 60% accuracy. This sounds a little bit low but you have to keep in mind that in the binary classification we have a baseline of 50% accuracy. That is more than twice as much! Furthermore there is a lot subjectivity in the reviews. Take a look on the confusion matrix:\n",
    "\n",
    "<img src=\"./images/yelp_confusion.png\">\n",
    "\n",
    "If you look carefully you can see that it’s hard to distinguish in one class that has surrounding classes side by side. If you wrote a negative review, when does this have just two stars and not one or three?! Sometimes it’s clear for sure but sometimes not! Therefore I calculated another result with an approach of smooth transition (+-1) for each class. If we do so, we get an accuracy of 94.71% which is similar to binary classification but not very valid.\n",
    "\n",
    "| Filter Sizes | Feature Maps | Embedding | Max Words / Sequence | Batch Size /<br>Epochs | Training<br>(loss / acc) | Validation<br>(loss / acc) | Test<br>(loss / acc) |\n",
    "| :---: | :---: | :---: | :---: | :---: | :---: | :---: | :--: |\n",
    "| [3,4,5] | [10,10,10] | 300 | 15000 / 200 | 200 / 50 | 0.8613 / 0.6395 | 0.9036 / 0.6179 | 0.9356 / 0.6051 |\n",
    "\n",
    "## Conclusion and improvements\n",
    "Finally CNNs are a great approach for text classification. However a lot of data is needed for training a good model. It would be interesting to compare this results with a typical machine learning approach. I expect that using ML for all datasets except Yelp getting similar results. If you evaluate your own architecture (neural network), I recommend using IMDB or Yelp because of their amount of data.<br>\n",
    "\n",
    "Using pre-trained embeddings like GloVe improved accuracy by about 1-2% especially for small datasets. In addition comes that pre-trained embeddings have a regularization effect on training. That make sense because GloVe is trained on data which is some different to Yelp and the other datasets. This means that during training the weights of the pre-trained embedding will be updated. You can see the regularization effect in the following image:\n",
    "\n",
    "<img src=\"./images/yelp_comparison.png\">\n",
    "\n",
    "If you look on the results using GloVe you can see that training / validation / test are very close to each other.\n",
    "\n",
    "I tried to modify just a few parameters for each dataset. Increasing batch size, filter size and sequence length need a lot memory and time to train. Therefore I tried to use small values. Maybe increasing this parameters can improve results like feature maps to 100 as written in the paper [1].\n",
    "\n",
    "If you are interested in CNN and text classification try out the dataset from Yelp! Not only because of the best result in accuracy, it has a lot metadata. Maybe I will use this dataset to get insights for my next travel :)\n",
    "\n",
    "I'm sure that you can get better results by tuning some parameters:\n",
    "- Increase feature maps\n",
    "- Add / remove filter sizes\n",
    "- Use another embeddings (e.g. Google word2vec)\n",
    "- Increase / decrease maximum words in vocabulary and sequence\n",
    "- Modify the method `clean_text`\n",
    "\n",
    "If you have any questions or hints for improvement contact me through an issue. Thanks!\n",
    "\n",
    "## Requirements\n",
    "* Python 3.6\n",
    "* Keras 2.0.8\n",
    "* TensorFlow 1.1\n",
    "* Scikit 0.19.1\n",
    "\n",
    "## Usage\n",
    "Feel free to use the [model](https://github.com/cmasch/cnn-text-classification/blob/master/cnn_model.py) and your own dataset. As an example you can use this [evaluation notebook](https://github.com/cmasch/cnn-text-classification/blob/master/Evaluation.ipynb).\n",
    "\n",
    "## References\n",
    "[1] [Convolutional Neural Networks for Sentence Classification](https://arxiv.org/abs/1408.5882)<br>\n",
    "[2] [Neural Document Embeddings for Intensive Care Patient Mortality Prediction](https://arxiv.org/abs/1612.00467)\n",
    "\n",
    "## Author\n",
    "Christopher Masch\n"
   ]
  },
  {
   "cell_type": "markdown",
   "metadata": {},
   "source": [
    "---\n",
    "\n",
    "# Using ConvNet to classify real and fake reviews\n",
    "\n",
    "\n",
    "### Changes to Data & Parameters\n",
    "\n",
    "- positive and negative reviews converted to genuine and fake reviews\n",
    "- monitoring max seq length\n",
    "- added googlenews word2vec embedding & `USE_GOOGLE` parameter\n",
    "- lessened number of epochs (40 -> 20)\n",
    "- corrected `acc` to `accuracy` & `val_acc` to `val_accuracy` in testing"
   ]
  },
  {
   "cell_type": "code",
   "execution_count": 1,
   "metadata": {},
   "outputs": [
    {
     "name": "stderr",
     "output_type": "stream",
     "text": [
      "Using TensorFlow backend.\n"
     ]
    },
    {
     "name": "stdout",
     "output_type": "stream",
     "text": [
      "Keras version: \t\t2.3.1\n",
      "Scikit version: \t0.21.2\n",
      "TensorFlow version: \t2.0.0\n"
     ]
    }
   ],
   "source": [
    "import keras, os, pickle, re, sklearn, string, tensorflow\n",
    "import numpy as np\n",
    "import matplotlib.pyplot as plt\n",
    "import pandas as pd\n",
    "\n",
    "from nltk.corpus import stopwords\n",
    "from keras.utils import to_categorical\n",
    "from keras.callbacks import ModelCheckpoint, ReduceLROnPlateau\n",
    "from keras.preprocessing.text import Tokenizer\n",
    "from keras.preprocessing.sequence import pad_sequences\n",
    "from keras.models import load_model\n",
    "from keras.layers import Embedding\n",
    "from keras.optimizers import Adadelta\n",
    "from sklearn.model_selection import train_test_split\n",
    "\n",
    "from gensim import models\n",
    "\n",
    "print('Keras version: \\t\\t%s' % keras.__version__)\n",
    "print('Scikit version: \\t%s' % sklearn.__version__)\n",
    "print('TensorFlow version: \\t%s' % tensorflow.__version__)"
   ]
  },
  {
   "cell_type": "markdown",
   "metadata": {},
   "source": [
    "### Preprocessing"
   ]
  },
  {
   "cell_type": "code",
   "execution_count": 2,
   "metadata": {},
   "outputs": [],
   "source": [
    "def clean_doc(doc):\n",
    "    \"\"\"\n",
    "    Cleaning a document by several methods:\n",
    "        - Lowercase\n",
    "        - Removing whitespaces\n",
    "        - Removing numbers\n",
    "        - Removing stopwords\n",
    "        - Removing punctuations\n",
    "        - Removing short words\n",
    "    \"\"\"\n",
    "    stop_words = set(stopwords.words('english'))\n",
    "    \n",
    "    # Lowercase\n",
    "    doc = doc.lower()\n",
    "    # Remove numbers\n",
    "    doc = re.sub(r\"[0-9]+\", \"\", doc)\n",
    "    # Split in tokens\n",
    "    tokens = doc.split()\n",
    "    # Remove Stopwords\n",
    "    tokens = [w for w in tokens if not w in stop_words]\n",
    "    # Remove punctuation\n",
    "    tokens = [w.translate(str.maketrans('', '', string.punctuation)) for w in tokens]\n",
    "    # Tokens with less then two characters will be ignored\n",
    "    tokens = [word for word in tokens if len(word) > 1]\n",
    "    return ' '.join(tokens)\n",
    "\n",
    "\n",
    "def read_files(path):\n",
    "    documents = list()\n",
    "    # Read in all files in directory\n",
    "    if os.path.isdir(path):\n",
    "        for filename in os.listdir(path):\n",
    "            with open('%s/%s' % (path, filename)) as f:\n",
    "                doc = f.read()\n",
    "                doc = clean_doc(doc)\n",
    "                documents.append(doc)\n",
    "    \n",
    "    # Read in all lines in a txt file\n",
    "    if os.path.isfile(path):        \n",
    "        with open(path, encoding='iso-8859-1') as f:\n",
    "            doc = f.readlines()\n",
    "            for line in doc:\n",
    "                documents.append(clean_doc(line))\n",
    "    return documents"
   ]
  },
  {
   "cell_type": "code",
   "execution_count": 3,
   "metadata": {},
   "outputs": [],
   "source": [
    "# EMBEDDING\n",
    "MAX_NUM_WORDS  = 15000\n",
    "EMBEDDING_DIM  = 300\n",
    "MAX_SEQ_LENGTH = 200\n",
    "USE_GLOVE      = True\n",
    "USE_GOOGLE     = False\n",
    "\n",
    "# MODEL\n",
    "FILTER_SIZES   = [3,4,5]\n",
    "FEATURE_MAPS   = [10,10,10]\n",
    "DROPOUT_RATE   = 0.5\n",
    "\n",
    "# LEARNING\n",
    "BATCH_SIZE     = 200\n",
    "NB_EPOCHS      = 15 #40 in original repo\n",
    "RUNS           = 2\n",
    "VAL_SIZE       = 0.25"
   ]
  },
  {
   "cell_type": "code",
   "execution_count": 4,
   "metadata": {},
   "outputs": [],
   "source": [
    "#Yelp data management\n",
    "\n",
    "df_train = pd.read_csv('../dat/train.csv')\n",
    "df_dev = pd.read_csv('../dat/dev.csv')\n",
    "\n",
    "trn_r = []\n",
    "trn_f = []\n",
    "dev_r = []\n",
    "dev_f = []\n",
    "\n",
    "for r in df_train[df_train['label']==0]['review']:\n",
    "    trn_r.append(r)\n",
    "for r in df_train[df_train['label']==1]['review']:\n",
    "    trn_f.append(r)   \n",
    "    \n",
    "for r in df_dev[df_dev['label']==0]['review']:\n",
    "    dev_r.append(r)\n",
    "for r in df_dev[df_dev['label']==1]['review']:\n",
    "    dev_f.append(r)\n",
    "    \n",
    "positive_docs = trn_r\n",
    "negative_docs = trn_f\n",
    "negative_docs_test = dev_r\n",
    "positive_docs_test = dev_f\n"
   ]
  },
  {
   "cell_type": "code",
   "execution_count": 5,
   "metadata": {},
   "outputs": [
    {
     "name": "stdout",
     "output_type": "stream",
     "text": [
      "Training samples: 250874\n"
     ]
    }
   ],
   "source": [
    "## Sentence polarity dataset v1.0\n",
    "#negative_docs = read_files('data/rt-polarity.neg')\n",
    "#positive_docs = read_files('data/rt-polarity.pos')\n",
    "\n",
    "## IMDB\n",
    "#negative_docs = read_files('data/imdb/train/neg')\n",
    "#positive_docs = read_files('data/imdb/train/pos')\n",
    "#negative_docs_test = read_files('data/imdb/test/neg')\n",
    "#positive_docs_test = read_files('data/imdb/test/pos')\n",
    "\n",
    "## Yelp\n",
    "#negative_docs = read_files('data/yelp/train/neg')\n",
    "#positive_docs = read_files('data/yelp/train/pos')\n",
    "#negative_docs_test = read_files('data/yelp/test/neg')\n",
    "#positive_docs_test = read_files('data/yelp/test/pos')\n",
    "\n",
    "docs   = negative_docs + positive_docs\n",
    "labels = [0 for _ in range(len(negative_docs))] + [1 for _ in range(len(positive_docs))]\n",
    "\n",
    "print('Training samples: %i' % len(docs))"
   ]
  },
  {
   "cell_type": "markdown",
   "metadata": {},
   "source": [
    "## Tokenizer"
   ]
  },
  {
   "cell_type": "code",
   "execution_count": 6,
   "metadata": {},
   "outputs": [
    {
     "name": "stdout",
     "output_type": "stream",
     "text": [
      "Text informations:\n",
      "max length: 1529 / min length: 1 / mean length: 116 / limit length: 200\n",
      "vocabulary size: 128439 / limit: 15000\n"
     ]
    }
   ],
   "source": [
    "def max_length(lines):\n",
    "    \"\"\"\n",
    "    Calculate the maximum document length\n",
    "    \"\"\"\n",
    "    return max([len(s.split()) for s in lines])\n",
    "\n",
    "tokenizer = Tokenizer(num_words=MAX_NUM_WORDS)\n",
    "tokenizer.fit_on_texts(docs)\n",
    "sequences = tokenizer.texts_to_sequences(docs)\n",
    "\n",
    "length = max_length(docs)\n",
    "word_index = tokenizer.word_index\n",
    "\n",
    "result = [len(x.split()) for x in docs]\n",
    "print('Text informations:')\n",
    "print('max length: %i / min length: %i / mean length: %i / limit length: %i' % (np.max(result),\n",
    "                                                                                np.min(result),\n",
    "                                                                                np.mean(result),\n",
    "                                                                                MAX_SEQ_LENGTH))\n",
    "print('vocabulary size: %i / limit: %i' % (len(word_index), MAX_NUM_WORDS))\n",
    "\n",
    "# Padding all sequences to same length of `MAX_SEQ_LENGTH`\n",
    "data   = pad_sequences(sequences, maxlen=MAX_SEQ_LENGTH, padding='post')"
   ]
  },
  {
   "cell_type": "markdown",
   "metadata": {},
   "source": [
    "## Embeddings"
   ]
  },
  {
   "cell_type": "markdown",
   "metadata": {},
   "source": [
    "### added GoogleNews W2V embedding for model"
   ]
  },
  {
   "cell_type": "code",
   "execution_count": 7,
   "metadata": {},
   "outputs": [],
   "source": [
    "def create_pretrained_embeddings(preset='None'):\n",
    "    \n",
    "\n",
    "    embeddings_index = {}\n",
    "    \n",
    "    if preset == 'glove':\n",
    "        print('Pretrained embeddings GloVe is loading...')\n",
    "        f = open('../dat/w2v/glove.6B.%id.txt' % EMBEDDING_DIM, encoding='utf8')\n",
    "    elif preset == 'google':\n",
    "        print('Pretrained embeddings GoogleNews is loading...')\n",
    "        f = open('../dat/w2v/GoogleNews-vectors-negative%i.txt' % EMBEDDING_DIM, encoding='utf8')\n",
    "    else:\n",
    "        if preset != 'None':\n",
    "            print('invalid pretrained preset')\n",
    "        return None\n",
    "    \n",
    "    for line in f:\n",
    "        values = line.split()\n",
    "        word = values[0]\n",
    "        coefs = np.asarray(values[1:], dtype='float32')\n",
    "        embeddings_index[word] = coefs\n",
    "    f.close()\n",
    "    \n",
    "    print('Found %s word vectors in'% len(embeddings_index), preset, 'embedding' )\n",
    "\n",
    "    embedding_matrix = np.zeros((MAX_NUM_WORDS, EMBEDDING_DIM))\n",
    "\n",
    "    for word, i in tokenizer.word_index.items():\n",
    "        if i >= MAX_NUM_WORDS:\n",
    "            continue\n",
    "        embedding_vector = embeddings_index.get(word)\n",
    "        if embedding_vector is not None:\n",
    "            embedding_matrix[i] = embedding_vector\n",
    "\n",
    "    return Embedding(input_dim=MAX_NUM_WORDS, output_dim=EMBEDDING_DIM,\n",
    "                     input_length=MAX_SEQ_LENGTH,\n",
    "                     weights=[embedding_matrix],\n",
    "                     trainable=True\n",
    "                    )"
   ]
  },
  {
   "cell_type": "markdown",
   "metadata": {},
   "source": [
    "## Model definition"
   ]
  },
  {
   "cell_type": "markdown",
   "metadata": {},
   "source": [
    "## Training"
   ]
  },
  {
   "cell_type": "code",
   "execution_count": 8,
   "metadata": {
    "scrolled": false
   },
   "outputs": [
    {
     "name": "stdout",
     "output_type": "stream",
     "text": [
      "Running iteration 1/2\n",
      "Pretrained embeddings GloVe is loading...\n",
      "Found 400000 word vectors in glove embedding\n",
      "Creating CNN 0.0.1\n",
      "#############################################\n",
      "Embedding:    using pre-trained embedding\n",
      "Vocabulary size: 15000\n",
      "Embedding dim: 300\n",
      "Filter sizes: [3, 4, 5]\n",
      "Feature maps: [10, 10, 10]\n",
      "Max sequence: 200\n",
      "#############################################\n"
     ]
    },
    {
     "name": "stderr",
     "output_type": "stream",
     "text": [
      "C:\\Users\\Jeffs Laptop\\.conda\\envs\\pfds\\lib\\site-packages\\tensorflow_core\\python\\framework\\indexed_slices.py:424: UserWarning: Converting sparse IndexedSlices to a dense Tensor of unknown shape. This may consume a large amount of memory.\n",
      "  \"Converting sparse IndexedSlices to a dense Tensor of unknown shape. \"\n"
     ]
    },
    {
     "name": "stdout",
     "output_type": "stream",
     "text": [
      "Train on 188155 samples, validate on 62719 samples\n",
      "Epoch 1/15\n",
      "188155/188155 [==============================] - 635s 3ms/step - loss: 0.3901 - accuracy: 0.8957 - val_loss: 0.3180 - val_accuracy: 0.8992\n",
      "\n",
      "Epoch 00001: val_loss improved from inf to 0.31805, saving model to model-1.h5\n",
      "Epoch 2/15\n",
      "188155/188155 [==============================] - 620s 3ms/step - loss: 0.3270 - accuracy: 0.8964 - val_loss: 0.3198 - val_accuracy: 0.8992\n",
      "\n",
      "Epoch 00002: val_loss did not improve from 0.31805\n",
      "Epoch 3/15\n",
      "188155/188155 [==============================] - 620s 3ms/step - loss: 0.3236 - accuracy: 0.8964 - val_loss: 0.3191 - val_accuracy: 0.8992\n",
      "\n",
      "Epoch 00003: val_loss did not improve from 0.31805\n",
      "Epoch 4/15\n",
      "188155/188155 [==============================] - 628s 3ms/step - loss: 0.3225 - accuracy: 0.8964 - val_loss: 0.3128 - val_accuracy: 0.8992\n",
      "\n",
      "Epoch 00004: val_loss improved from 0.31805 to 0.31275, saving model to model-1.h5\n",
      "Epoch 5/15\n",
      "188155/188155 [==============================] - 618s 3ms/step - loss: 0.3217 - accuracy: 0.8964 - val_loss: 0.3125 - val_accuracy: 0.8992\n",
      "\n",
      "Epoch 00005: val_loss improved from 0.31275 to 0.31251, saving model to model-1.h5\n",
      "Epoch 6/15\n",
      "188155/188155 [==============================] - 617s 3ms/step - loss: 0.3212 - accuracy: 0.8964 - val_loss: 0.3287 - val_accuracy: 0.8992\n",
      "\n",
      "Epoch 00006: val_loss did not improve from 0.31251\n",
      "Epoch 7/15\n",
      "188155/188155 [==============================] - 660s 4ms/step - loss: 0.3200 - accuracy: 0.8964 - val_loss: 0.3111 - val_accuracy: 0.8992\n",
      "\n",
      "Epoch 00007: val_loss improved from 0.31251 to 0.31109, saving model to model-1.h5\n",
      "Epoch 8/15\n",
      "188155/188155 [==============================] - 613s 3ms/step - loss: 0.3192 - accuracy: 0.8964 - val_loss: 0.3104 - val_accuracy: 0.8992\n",
      "\n",
      "Epoch 00008: val_loss improved from 0.31109 to 0.31036, saving model to model-1.h5\n",
      "Epoch 9/15\n",
      "188155/188155 [==============================] - 613s 3ms/step - loss: 0.3192 - accuracy: 0.8964 - val_loss: 0.3104 - val_accuracy: 0.8992\n",
      "\n",
      "Epoch 00009: val_loss did not improve from 0.31036\n",
      "Epoch 10/15\n",
      "188155/188155 [==============================] - 612s 3ms/step - loss: 0.3189 - accuracy: 0.8964 - val_loss: 0.3196 - val_accuracy: 0.8992\n",
      "\n",
      "Epoch 00010: val_loss did not improve from 0.31036\n",
      "Epoch 11/15\n",
      "188155/188155 [==============================] - 617s 3ms/step - loss: 0.3187 - accuracy: 0.8964 - val_loss: 0.3084 - val_accuracy: 0.8992\n",
      "\n",
      "Epoch 00011: val_loss improved from 0.31036 to 0.30840, saving model to model-1.h5\n",
      "Epoch 12/15\n",
      "188155/188155 [==============================] - 614s 3ms/step - loss: 0.3188 - accuracy: 0.8964 - val_loss: 0.3158 - val_accuracy: 0.8992\n",
      "\n",
      "Epoch 00012: val_loss did not improve from 0.30840\n",
      "Epoch 13/15\n",
      "188155/188155 [==============================] - 614s 3ms/step - loss: 0.3187 - accuracy: 0.8964 - val_loss: 0.3121 - val_accuracy: 0.8992\n",
      "\n",
      "Epoch 00013: val_loss did not improve from 0.30840\n",
      "Epoch 14/15\n",
      "188155/188155 [==============================] - 615s 3ms/step - loss: 0.3181 - accuracy: 0.8964 - val_loss: 0.3124 - val_accuracy: 0.8992\n",
      "\n",
      "Epoch 00014: val_loss did not improve from 0.30840\n",
      "Epoch 15/15\n",
      "188155/188155 [==============================] - 613s 3ms/step - loss: 0.3181 - accuracy: 0.8964 - val_loss: 0.3119 - val_accuracy: 0.8992\n",
      "\n",
      "Epoch 00015: val_loss did not improve from 0.30840\n",
      "\n",
      "Running iteration 2/2\n",
      "Pretrained embeddings GloVe is loading...\n",
      "Found 400000 word vectors in glove embedding\n",
      "Creating CNN 0.0.1\n",
      "#############################################\n",
      "Embedding:    using pre-trained embedding\n",
      "Vocabulary size: 15000\n",
      "Embedding dim: 300\n",
      "Filter sizes: [3, 4, 5]\n",
      "Feature maps: [10, 10, 10]\n",
      "Max sequence: 200\n",
      "#############################################\n"
     ]
    },
    {
     "name": "stderr",
     "output_type": "stream",
     "text": [
      "C:\\Users\\Jeffs Laptop\\.conda\\envs\\pfds\\lib\\site-packages\\tensorflow_core\\python\\framework\\indexed_slices.py:424: UserWarning: Converting sparse IndexedSlices to a dense Tensor of unknown shape. This may consume a large amount of memory.\n",
      "  \"Converting sparse IndexedSlices to a dense Tensor of unknown shape. \"\n"
     ]
    },
    {
     "name": "stdout",
     "output_type": "stream",
     "text": [
      "Train on 188155 samples, validate on 62719 samples\n",
      "Epoch 1/15\n",
      "188155/188155 [==============================] - 621s 3ms/step - loss: 0.3916 - accuracy: 0.8957 - val_loss: 0.3164 - val_accuracy: 0.8992\n",
      "\n",
      "Epoch 00001: val_loss improved from inf to 0.31644, saving model to model-2.h5\n",
      "Epoch 2/15\n",
      "188155/188155 [==============================] - 614s 3ms/step - loss: 0.3255 - accuracy: 0.8964 - val_loss: 0.3143 - val_accuracy: 0.8992\n",
      "\n",
      "Epoch 00002: val_loss improved from 0.31644 to 0.31432, saving model to model-2.h5\n",
      "Epoch 3/15\n",
      "188155/188155 [==============================] - 613s 3ms/step - loss: 0.3237 - accuracy: 0.8964 - val_loss: 0.3148 - val_accuracy: 0.8992\n",
      "\n",
      "Epoch 00003: val_loss did not improve from 0.31432\n",
      "Epoch 4/15\n",
      "188155/188155 [==============================] - 642s 3ms/step - loss: 0.3219 - accuracy: 0.8964 - val_loss: 0.3145 - val_accuracy: 0.8992\n",
      "\n",
      "Epoch 00004: val_loss did not improve from 0.31432\n",
      "Epoch 5/15\n",
      "188155/188155 [==============================] - 600s 3ms/step - loss: 0.3213 - accuracy: 0.8964 - val_loss: 0.3120 - val_accuracy: 0.8992\n",
      "\n",
      "Epoch 00005: val_loss improved from 0.31432 to 0.31196, saving model to model-2.h5\n",
      "Epoch 6/15\n",
      "188155/188155 [==============================] - 602s 3ms/step - loss: 0.3206 - accuracy: 0.8963 - val_loss: 0.3181 - val_accuracy: 0.8992\n",
      "\n",
      "Epoch 00006: val_loss did not improve from 0.31196\n",
      "Epoch 7/15\n",
      "188155/188155 [==============================] - 600s 3ms/step - loss: 0.3199 - accuracy: 0.8964 - val_loss: 0.3159 - val_accuracy: 0.8992\n",
      "\n",
      "Epoch 00007: val_loss did not improve from 0.31196\n",
      "Epoch 8/15\n",
      "188155/188155 [==============================] - 604s 3ms/step - loss: 0.3199 - accuracy: 0.8964 - val_loss: 0.3271 - val_accuracy: 0.8992\n",
      "\n",
      "Epoch 00008: val_loss did not improve from 0.31196\n",
      "Epoch 9/15\n",
      "188155/188155 [==============================] - 601s 3ms/step - loss: 0.3197 - accuracy: 0.8964 - val_loss: 0.3104 - val_accuracy: 0.8992\n",
      "\n",
      "Epoch 00009: val_loss improved from 0.31196 to 0.31043, saving model to model-2.h5\n",
      "Epoch 10/15\n",
      "188155/188155 [==============================] - 601s 3ms/step - loss: 0.3197 - accuracy: 0.8964 - val_loss: 0.3107 - val_accuracy: 0.8992\n",
      "\n",
      "Epoch 00010: val_loss did not improve from 0.31043\n",
      "Epoch 11/15\n",
      "188155/188155 [==============================] - 600s 3ms/step - loss: 0.3193 - accuracy: 0.8964 - val_loss: 0.3106 - val_accuracy: 0.8993\n",
      "\n",
      "Epoch 00011: val_loss did not improve from 0.31043\n",
      "Epoch 12/15\n",
      "188155/188155 [==============================] - 603s 3ms/step - loss: 0.3194 - accuracy: 0.8963 - val_loss: 0.3141 - val_accuracy: 0.8992\n",
      "\n",
      "Epoch 00012: val_loss did not improve from 0.31043\n",
      "Epoch 13/15\n",
      "188155/188155 [==============================] - 602s 3ms/step - loss: 0.3191 - accuracy: 0.8964 - val_loss: 0.3099 - val_accuracy: 0.8993\n",
      "\n",
      "Epoch 00013: val_loss improved from 0.31043 to 0.30986, saving model to model-2.h5\n",
      "Epoch 14/15\n",
      "188155/188155 [==============================] - 603s 3ms/step - loss: 0.3190 - accuracy: 0.8964 - val_loss: 0.3094 - val_accuracy: 0.8992\n",
      "\n",
      "Epoch 00014: val_loss improved from 0.30986 to 0.30944, saving model to model-2.h5\n",
      "Epoch 15/15\n",
      "188155/188155 [==============================] - 609s 3ms/step - loss: 0.3189 - accuracy: 0.8964 - val_loss: 0.3109 - val_accuracy: 0.8994\n",
      "\n",
      "Epoch 00015: val_loss did not improve from 0.30944\n",
      "\n"
     ]
    }
   ],
   "source": [
    "import cnn_model\n",
    "\n",
    "histories = []\n",
    "\n",
    "for i in range(RUNS):\n",
    "    print('Running iteration %i/%i' % (i+1, RUNS))\n",
    "    \n",
    "    X_train, X_val, y_train, y_val = train_test_split(data, labels, test_size=VAL_SIZE, random_state=42)\n",
    "    \n",
    "    emb_layer = None\n",
    "    if USE_GLOVE:\n",
    "        emb_layer = create_pretrained_embeddings(preset='glove')\n",
    "    if USE_GOOGLE:\n",
    "        emb_layer = create_pretrained_embeddings(preset='google')\n",
    "    \n",
    "    model = cnn_model.build_cnn(\n",
    "        embedding_layer=emb_layer,\n",
    "        num_words=MAX_NUM_WORDS,\n",
    "        embedding_dim=EMBEDDING_DIM,\n",
    "        filter_sizes=FILTER_SIZES,\n",
    "        feature_maps=FEATURE_MAPS,\n",
    "        max_seq_length=MAX_SEQ_LENGTH,\n",
    "        dropout_rate=DROPOUT_RATE\n",
    "    )\n",
    "    \n",
    "    model.compile(\n",
    "        loss='binary_crossentropy',\n",
    "        optimizer=Adadelta(clipvalue=3),\n",
    "        metrics=['accuracy']\n",
    "    )\n",
    "    \n",
    "    history = model.fit(\n",
    "        X_train, y_train,\n",
    "        epochs=NB_EPOCHS,\n",
    "        batch_size=BATCH_SIZE,\n",
    "        verbose=1,\n",
    "        validation_data=(X_val, y_val),\n",
    "        callbacks=[ModelCheckpoint('model-%i.h5'%(i+1), monitor='val_loss',\n",
    "                                   verbose=1, save_best_only=True, mode='min'),\n",
    "                   ReduceLROnPlateau(monitor='val_loss', factor=0.1, patience=4, min_lr=0.01)\n",
    "                  ]\n",
    "    )\n",
    "    print()\n",
    "    histories.append(history.history)"
   ]
  },
  {
   "cell_type": "code",
   "execution_count": 9,
   "metadata": {},
   "outputs": [],
   "source": [
    "with open('history.pkl', 'wb') as f:\n",
    "    pickle.dump(histories, f)"
   ]
  },
  {
   "cell_type": "markdown",
   "metadata": {},
   "source": [
    "## Evaluation"
   ]
  },
  {
   "cell_type": "code",
   "execution_count": 10,
   "metadata": {},
   "outputs": [],
   "source": [
    "histories = pickle.load(open('history.pkl', 'rb'))"
   ]
  },
  {
   "cell_type": "code",
   "execution_count": 11,
   "metadata": {},
   "outputs": [
    {
     "name": "stdout",
     "output_type": "stream",
     "text": [
      "Training: \t0.3189 loss / 0.8964 acc\n",
      "Validation: \t0.3089 loss / 0.8992 acc\n"
     ]
    }
   ],
   "source": [
    "def get_avg(histories, his_key):\n",
    "    tmp = []\n",
    "    for history in histories:\n",
    "        tmp.append(history[his_key][np.argmin(history['val_loss'])])\n",
    "    return np.mean(tmp)\n",
    "    \n",
    "print('Training: \\t%0.4f loss / %0.4f acc' % (get_avg(histories, 'loss'),\n",
    "                                              get_avg(histories, 'accuracy')))\n",
    "print('Validation: \\t%0.4f loss / %0.4f acc' % (get_avg(histories, 'val_loss'),\n",
    "                                                get_avg(histories, 'val_accuracy')))"
   ]
  },
  {
   "cell_type": "code",
   "execution_count": 12,
   "metadata": {},
   "outputs": [
    {
     "data": {
      "text/plain": [
       "[{'val_loss': [0.31804993420225863,\n",
       "   0.319755533471259,\n",
       "   0.3191327984401007,\n",
       "   0.3127504791459475,\n",
       "   0.3125119439700529,\n",
       "   0.3287242534145637,\n",
       "   0.31108994005230817,\n",
       "   0.31035916509501177,\n",
       "   0.31040319909191316,\n",
       "   0.3196007851049432,\n",
       "   0.3084015312387022,\n",
       "   0.31584692230423267,\n",
       "   0.3121407495956776,\n",
       "   0.31240634886880037,\n",
       "   0.3119199058678984],\n",
       "  'val_accuracy': [0.8992331027984619,\n",
       "   0.8992331027984619,\n",
       "   0.8992331027984619,\n",
       "   0.8992331027984619,\n",
       "   0.8992331027984619,\n",
       "   0.8992331027984619,\n",
       "   0.8992331027984619,\n",
       "   0.8992331027984619,\n",
       "   0.8992331027984619,\n",
       "   0.8992331027984619,\n",
       "   0.8992331027984619,\n",
       "   0.8992331027984619,\n",
       "   0.8992331027984619,\n",
       "   0.8992331027984619,\n",
       "   0.8992331027984619],\n",
       "  'loss': [0.39010611892820424,\n",
       "   0.3270009619094668,\n",
       "   0.3236224809095502,\n",
       "   0.3224908741632202,\n",
       "   0.3216712933551153,\n",
       "   0.32124049356547546,\n",
       "   0.32004185338460783,\n",
       "   0.3191617003307592,\n",
       "   0.31916604666578624,\n",
       "   0.3189332514723318,\n",
       "   0.31870363634768206,\n",
       "   0.3188160349453086,\n",
       "   0.3186997079444709,\n",
       "   0.31805585123328717,\n",
       "   0.31810007612313873],\n",
       "  'accuracy': [0.8956605,\n",
       "   0.8963674,\n",
       "   0.8963674,\n",
       "   0.8963674,\n",
       "   0.8963674,\n",
       "   0.8963674,\n",
       "   0.8963727,\n",
       "   0.8963674,\n",
       "   0.8963674,\n",
       "   0.8963674,\n",
       "   0.8963674,\n",
       "   0.89636207,\n",
       "   0.89636207,\n",
       "   0.8963674,\n",
       "   0.8963674],\n",
       "  'lr': [1.0,\n",
       "   1.0,\n",
       "   1.0,\n",
       "   1.0,\n",
       "   1.0,\n",
       "   1.0,\n",
       "   1.0,\n",
       "   1.0,\n",
       "   1.0,\n",
       "   1.0,\n",
       "   1.0,\n",
       "   1.0,\n",
       "   1.0,\n",
       "   1.0,\n",
       "   1.0]},\n",
       " {'val_loss': [0.3164407489710095,\n",
       "   0.31432422852683056,\n",
       "   0.3147587190429863,\n",
       "   0.31451266564193714,\n",
       "   0.3119615725324148,\n",
       "   0.31808194704451814,\n",
       "   0.3158992163165894,\n",
       "   0.3270765341012084,\n",
       "   0.3104347079789396,\n",
       "   0.310739396342373,\n",
       "   0.3106173109863977,\n",
       "   0.3141109671263551,\n",
       "   0.30986413638235466,\n",
       "   0.3094432388746487,\n",
       "   0.31085096187769],\n",
       "  'val_accuracy': [0.8992331027984619,\n",
       "   0.8992331027984619,\n",
       "   0.8992331027984619,\n",
       "   0.8992331027984619,\n",
       "   0.8992331027984619,\n",
       "   0.8992331027984619,\n",
       "   0.8992331027984619,\n",
       "   0.8992331027984619,\n",
       "   0.8992331027984619,\n",
       "   0.8992331027984619,\n",
       "   0.8992649912834167,\n",
       "   0.8992331027984619,\n",
       "   0.8992649912834167,\n",
       "   0.8992331027984619,\n",
       "   0.8993606567382812],\n",
       "  'loss': [0.39159048080685094,\n",
       "   0.32548042524235055,\n",
       "   0.32369330406366364,\n",
       "   0.3219115319793336,\n",
       "   0.32131619248359533,\n",
       "   0.3205951761072915,\n",
       "   0.31993152640279027,\n",
       "   0.31993999788498273,\n",
       "   0.3197265347051429,\n",
       "   0.3197282164847802,\n",
       "   0.31933446501770674,\n",
       "   0.3193606435223043,\n",
       "   0.3191480060444318,\n",
       "   0.3190136940266843,\n",
       "   0.31893308457584185],\n",
       "  'accuracy': [0.8957402,\n",
       "   0.8963674,\n",
       "   0.8963567,\n",
       "   0.8963674,\n",
       "   0.8963674,\n",
       "   0.8962929,\n",
       "   0.8963674,\n",
       "   0.8963727,\n",
       "   0.89636207,\n",
       "   0.8963674,\n",
       "   0.8963727,\n",
       "   0.8963195,\n",
       "   0.89636207,\n",
       "   0.8963674,\n",
       "   0.8963833],\n",
       "  'lr': [1.0,\n",
       "   1.0,\n",
       "   1.0,\n",
       "   1.0,\n",
       "   1.0,\n",
       "   1.0,\n",
       "   1.0,\n",
       "   1.0,\n",
       "   1.0,\n",
       "   1.0,\n",
       "   1.0,\n",
       "   1.0,\n",
       "   1.0,\n",
       "   1.0,\n",
       "   1.0]}]"
      ]
     },
     "execution_count": 12,
     "metadata": {},
     "output_type": "execute_result"
    }
   ],
   "source": [
    "histories"
   ]
  },
  {
   "cell_type": "code",
   "execution_count": 13,
   "metadata": {},
   "outputs": [],
   "source": [
    "def plot_acc_loss(title, histories, key_acc, key_loss):\n",
    "    fig, (ax1, ax2) = plt.subplots(1, 2)\n",
    "    # Accuracy\n",
    "    ax1.set_title('Model accuracy (%s)' % title)\n",
    "    names = []\n",
    "    for i, model in enumerate(histories):\n",
    "        ax1.plot(model[key_acc])\n",
    "        ax1.set_xlabel('epoch')\n",
    "        names.append('Model %i' % (i+1))\n",
    "        ax1.set_ylabel('accuracy')\n",
    "    ax1.legend(names, loc='lower right')\n",
    "    # Loss\n",
    "    ax2.set_title('Model loss (%s)' % title)\n",
    "    for model in histories:\n",
    "        ax2.plot(model[key_loss])\n",
    "        ax2.set_xlabel('epoch')\n",
    "        ax2.set_ylabel('loss')\n",
    "    ax2.legend(names, loc='upper right')\n",
    "    fig.set_size_inches(20, 5)\n",
    "    plt.show()"
   ]
  },
  {
   "cell_type": "code",
   "execution_count": 14,
   "metadata": {},
   "outputs": [
    {
     "data": {
      "image/png": "[encoded data removed]",
      "text/plain": [
       "<Figure size 1440x360 with 2 Axes>"
      ]
     },
     "metadata": {
      "needs_background": "light"
     },
     "output_type": "display_data"
    },
    {
     "data": {
      "image/png": "[encoded data removed]",
      "text/plain": [
       "<Figure size 1440x360 with 2 Axes>"
      ]
     },
     "metadata": {
      "needs_background": "light"
     },
     "output_type": "display_data"
    }
   ],
   "source": [
    "plot_acc_loss('training', histories, 'accuracy', 'loss')\n",
    "plot_acc_loss('validation', histories, 'val_accuracy', 'val_loss')"
   ]
  },
  {
   "cell_type": "markdown",
   "metadata": {},
   "source": [
    "##### Final test (IMDB / Yelp)"
   ]
  },
  {
   "cell_type": "code",
   "execution_count": 15,
   "metadata": {},
   "outputs": [],
   "source": [
    "X_test = negative_docs_test + positive_docs_test\n",
    "y_test = [0 for _ in range(len(negative_docs_test))] + [1 for _ in range(len(positive_docs_test))]"
   ]
  },
  {
   "cell_type": "code",
   "execution_count": 16,
   "metadata": {},
   "outputs": [],
   "source": [
    "sequences_test = tokenizer.texts_to_sequences(X_test)\n",
    "\n",
    "X_test = pad_sequences(sequences_test, maxlen=MAX_SEQ_LENGTH, padding='post')"
   ]
  },
  {
   "cell_type": "code",
   "execution_count": 17,
   "metadata": {},
   "outputs": [
    {
     "name": "stderr",
     "output_type": "stream",
     "text": [
      "C:\\Users\\Jeffs Laptop\\.conda\\envs\\pfds\\lib\\site-packages\\tensorflow_core\\python\\framework\\indexed_slices.py:424: UserWarning: Converting sparse IndexedSlices to a dense Tensor of unknown shape. This may consume a large amount of memory.\n",
      "  \"Converting sparse IndexedSlices to a dense Tensor of unknown shape. \"\n"
     ]
    },
    {
     "name": "stdout",
     "output_type": "stream",
     "text": [
      "35918/35918 [==============================] - 18s 508us/step\n",
      "Running test with model 1: 2.3479 loss / 0.1016 acc\n"
     ]
    },
    {
     "name": "stderr",
     "output_type": "stream",
     "text": [
      "C:\\Users\\Jeffs Laptop\\.conda\\envs\\pfds\\lib\\site-packages\\tensorflow_core\\python\\framework\\indexed_slices.py:424: UserWarning: Converting sparse IndexedSlices to a dense Tensor of unknown shape. This may consume a large amount of memory.\n",
      "  \"Converting sparse IndexedSlices to a dense Tensor of unknown shape. \"\n"
     ]
    },
    {
     "name": "stdout",
     "output_type": "stream",
     "text": [
      "35918/35918 [==============================] - 18s 493us/step\n",
      "Running test with model 2: 2.1700 loss / 0.1016 acc\n",
      "\n",
      "Average loss / accuracy on testset: 2.2590 loss / 0.1016 acc\n",
      "Standard deviation: (+-0.0890) loss / (+-0.0000) acc\n"
     ]
    }
   ],
   "source": [
    "test_loss = []\n",
    "test_accs = []\n",
    "\n",
    "for i in range(0,RUNS):\n",
    "    cnn_ = load_model(\"model-%i.h5\" % (i+1))\n",
    "    \n",
    "    score = cnn_.evaluate(X_test, y_test, verbose=1)\n",
    "    test_loss.append(score[0])\n",
    "    test_accs.append(score[1])\n",
    "    \n",
    "    print('Running test with model %i: %0.4f loss / %0.4f acc' % (i+1, score[0], score[1]))\n",
    "    \n",
    "print('\\nAverage loss / accuracy on testset: %0.4f loss / %0.4f acc' % (np.mean(test_loss),\n",
    "                                                                        np.mean(test_accs)))\n",
    "print('Standard deviation: (+-%0.4f) loss / (+-%0.4f) acc' % (np.std(test_loss), np.std(test_accs)))"
   ]
  },
  {
   "cell_type": "code",
   "execution_count": null,
   "metadata": {},
   "outputs": [],
   "source": []
  },
  {
   "cell_type": "code",
   "execution_count": null,
   "metadata": {},
   "outputs": [],
   "source": []
  }
 ],
 "metadata": {
  "kernelspec": {
   "display_name": "Python 3",
   "language": "python",
   "name": "python3"
  },
  "language_info": {
   "codemirror_mode": {
    "name": "ipython",
    "version": 3
   },
   "file_extension": ".py",
   "mimetype": "text/x-python",
   "name": "python",
   "nbconvert_exporter": "python",
   "pygments_lexer": "ipython3",
   "version": "3.7.4"
  }
 },
 "nbformat": 4,
 "nbformat_minor": 2
}
